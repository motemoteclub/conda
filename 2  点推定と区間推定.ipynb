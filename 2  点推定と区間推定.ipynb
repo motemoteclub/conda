{
 "cells": [
  {
   "cell_type": "code",
   "execution_count": null,
   "id": "57fb876d",
   "metadata": {},
   "outputs": [],
   "source": [
    "#---------------------------------------------------------------------------------------------------\n",
    "# 第2章\n",
    "# 真の支持率は以下の、p=で指示する。その上で、\n",
    "# n人の有権者に首相を支持するか否かをきいて、支持するのであれば1、支持しないのであれば0となる\n",
    "# サンプルを得る（asahi_sinbun）。このサンプルを使って、点推定と95％信頼区間を作成する（suitei）。\n",
    "#---------------------------------------------------------------------------------------------------\n",
    "import numpy as np\n",
    "import pandas as pd\n",
    "from numpy.random import *\n",
    "import matplotlib.pyplot as plt\n",
    "\n",
    "n=10 # ランダムサンプルサイズ\n",
    "\n",
    "akaenpitu=pd.Series(rand(n)) # 赤鉛筆をn回、転がす\n",
    "\n",
    "# 赤鉛筆の結果から首相支持、不支持をの値を返す関数、prime_minister\n",
    "# 首相を支持する＝1，しない＝0\n",
    "# 首相を支持する真の確率=p\n",
    "def prime_minister(R,p):\n",
    "    if R <= p:\n",
    "        X = 1\n",
    "    else :\n",
    "        X = 0\n",
    "    return X \n",
    "\n",
    "# 朝日新聞の世論調査n人分の結果が得られる\n",
    "asahi_sinbun=akaenpitu.apply(prime_minister,p=0.6) # applyがmapだと不可\n",
    "\n",
    "# 首相を支持する人の真の割合の点推定を１個得る\n",
    "asahi_sinbun_tensuitei=asahi_sinbun.mean()\n",
    "\n",
    "# 信頼区間を計算するラムダ関数の定義\n",
    "# xは点推定でなければならない\n",
    "hidari = lambda x: x-1.96*np.sqrt(x*(1-x)/n)\n",
    "migi   = lambda x: x+1.96*np.sqrt(x*(1-x)/n)\n",
    "\n",
    "# 点推定、区間推定を含むDataFrameの作成：１行からなる\n",
    "suitei =pd.DataFrame([[asahi_sinbun_tensuitei,hidari(asahi_sinbun_tensuitei),\n",
    "                       migi(asahi_sinbun_tensuitei)]], \n",
    "                       columns=['点推定','左信頼限界','右信頼限界'])\n",
    "\n",
    "suitei\n"
   ]
  }
 ],
 "metadata": {
  "kernelspec": {
   "display_name": "Python 3",
   "language": "python",
   "name": "python3"
  },
  "language_info": {
   "codemirror_mode": {
    "name": "ipython",
    "version": 3
   },
   "file_extension": ".py",
   "mimetype": "text/x-python",
   "name": "python",
   "nbconvert_exporter": "python",
   "pygments_lexer": "ipython3",
   "version": "3.7.6"
  }
 },
 "nbformat": 4,
 "nbformat_minor": 5
}
