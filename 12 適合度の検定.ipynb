{
 "cells": [
  {
   "cell_type": "code",
   "execution_count": null,
   "id": "a46330b2",
   "metadata": {},
   "outputs": [],
   "source": [
    "#---------------------------------------------------------------------------------------------------\n",
    "# 第12章\n",
    "# サイコロの目を題材にして、χ2乗変数の分布を示す\n",
    "#---------------------------------------------------------------------------------------------------\n",
    "\n",
    "from scipy import stats\n",
    "import pandas as pd\n",
    "import numpy as np\n",
    "from numpy.random import *\n",
    "\n",
    "import matplotlib as mpl\n",
    "import matplotlib.pyplot as plt\n",
    "\n",
    "n=100\n",
    "n_chi=10000\n",
    "\n",
    "# サイコロを転がすための準備\n",
    "saikoro=pd.Series([1,2,3,4,5,6]) # Seriesを作る\n",
    "\n",
    "# サイコロをn回転がすということをn_chi回繰り返す\n",
    "dice=pd.DataFrame(saikoro.sample(n*n_chi,replace=True).values.reshape(n_chi,n))\n",
    "\n",
    "# それぞれの目が何回出たか記録するための準備\n",
    "obs_head=pd.DataFrame(columns=[1,2,3,4,5,6])\n",
    "\n",
    "dice_summary=lambda x:x.value_counts() # それぞれの目が何回出たか、行ごとにカウントし出力\n",
    "\n",
    "obs=dice.apply(dice_summary,axis=1) # n回サイコロを振るごとに、目の度数を計算する\n",
    "\n",
    "# 任意の目が出ていない場合の対策\n",
    "obs=pd.concat([obs_head,obs])\n",
    "\n",
    "# 欠損値対策\n",
    "obs.fillna(0,inplace=True)\n",
    "\n",
    "# chi 2乗の計算\n",
    "ex=n*(1/6) # 期待度数の計算\n",
    "chi_square=lambda x:(   (x[1]-ex)**2/ex+(x[2]-ex)**2/ex+(x[3]-ex)**2/ex+\n",
    "                        (x[4]-ex)**2/ex+(x[5]-ex)**2/ex+(x[6]-ex)**2/ex\n",
    "                    )\n",
    "\n",
    "chi2=obs.apply(chi_square,axis=1)\n",
    "\n",
    "# chi2の実現値のデータのパーセンタイルを返す\n",
    "print(chi2.describe(percentiles=[0.90,0.95,0.99])) \n",
    "\n",
    "print(stats.chi2.ppf(0.95, 6-1)) # χ2乗変数の右裾5％点を返す\n",
    "\n",
    "# 図示\n",
    "chi2.plot(kind='hist',bins=25,title='サイコロの適合度の検定に使われるカイ2乗変数のヒストグラム(n=%s)' % n)\n",
    "plt.show()\n"
   ]
  }
 ],
 "metadata": {
  "kernelspec": {
   "display_name": "Python 3",
   "language": "python",
   "name": "python3"
  },
  "language_info": {
   "codemirror_mode": {
    "name": "ipython",
    "version": 3
   },
   "file_extension": ".py",
   "mimetype": "text/x-python",
   "name": "python",
   "nbconvert_exporter": "python",
   "pygments_lexer": "ipython3",
   "version": "3.7.6"
  }
 },
 "nbformat": 4,
 "nbformat_minor": 5
}
